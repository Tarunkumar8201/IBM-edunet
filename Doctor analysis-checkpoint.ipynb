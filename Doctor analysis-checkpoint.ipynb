{
 "cells": [
  {
   "cell_type": "markdown",
   "id": "6472350c",
   "metadata": {},
   "source": [
    "# IMPORT PACKAGE"
   ]
  },
  {
   "cell_type": "code",
   "execution_count": 4,
   "id": "477d5e02",
   "metadata": {},
   "outputs": [],
   "source": [
    "import matplotlib.pyplot as plt\n",
    "import pandas as pd\n",
    "import numpy as np\n",
    "import seaborn as sns"
   ]
  },
  {
   "cell_type": "markdown",
   "id": "ec58573a",
   "metadata": {},
   "source": [
    "# READING THE DATA SET"
   ]
  },
  {
   "cell_type": "code",
   "execution_count": 2,
   "id": "5637064b",
   "metadata": {},
   "outputs": [],
   "source": [
    "data=pd.read_csv(r\"C:\\Users\\koyit\\Downloads\\DoctorVisits - DA.csv\")"
   ]
  },
  {
   "cell_type": "markdown",
   "id": "c3e172d4",
   "metadata": {},
   "source": [
    "# FIRST FIVE ROWS"
   ]
  },
  {
   "cell_type": "code",
   "execution_count": 3,
   "id": "f5a9b6fa",
   "metadata": {},
   "outputs": [
    {
     "data": {
      "text/html": [
       "<div>\n",
       "<style scoped>\n",
       "    .dataframe tbody tr th:only-of-type {\n",
       "        vertical-align: middle;\n",
       "    }\n",
       "\n",
       "    .dataframe tbody tr th {\n",
       "        vertical-align: top;\n",
       "    }\n",
       "\n",
       "    .dataframe thead th {\n",
       "        text-align: right;\n",
       "    }\n",
       "</style>\n",
       "<table border=\"1\" class=\"dataframe\">\n",
       "  <thead>\n",
       "    <tr style=\"text-align: right;\">\n",
       "      <th></th>\n",
       "      <th>Unnamed: 0</th>\n",
       "      <th>visits</th>\n",
       "      <th>gender</th>\n",
       "      <th>age</th>\n",
       "      <th>income</th>\n",
       "      <th>illness</th>\n",
       "      <th>reduced</th>\n",
       "      <th>health</th>\n",
       "      <th>private</th>\n",
       "      <th>freepoor</th>\n",
       "      <th>freerepat</th>\n",
       "      <th>nchronic</th>\n",
       "      <th>lchronic</th>\n",
       "    </tr>\n",
       "  </thead>\n",
       "  <tbody>\n",
       "    <tr>\n",
       "      <th>0</th>\n",
       "      <td>1</td>\n",
       "      <td>1</td>\n",
       "      <td>female</td>\n",
       "      <td>0.19</td>\n",
       "      <td>0.55</td>\n",
       "      <td>1</td>\n",
       "      <td>4</td>\n",
       "      <td>1</td>\n",
       "      <td>yes</td>\n",
       "      <td>no</td>\n",
       "      <td>no</td>\n",
       "      <td>no</td>\n",
       "      <td>no</td>\n",
       "    </tr>\n",
       "    <tr>\n",
       "      <th>1</th>\n",
       "      <td>2</td>\n",
       "      <td>1</td>\n",
       "      <td>female</td>\n",
       "      <td>0.19</td>\n",
       "      <td>0.45</td>\n",
       "      <td>1</td>\n",
       "      <td>2</td>\n",
       "      <td>1</td>\n",
       "      <td>yes</td>\n",
       "      <td>no</td>\n",
       "      <td>no</td>\n",
       "      <td>no</td>\n",
       "      <td>no</td>\n",
       "    </tr>\n",
       "    <tr>\n",
       "      <th>2</th>\n",
       "      <td>3</td>\n",
       "      <td>1</td>\n",
       "      <td>male</td>\n",
       "      <td>0.19</td>\n",
       "      <td>0.90</td>\n",
       "      <td>3</td>\n",
       "      <td>0</td>\n",
       "      <td>0</td>\n",
       "      <td>no</td>\n",
       "      <td>no</td>\n",
       "      <td>no</td>\n",
       "      <td>no</td>\n",
       "      <td>no</td>\n",
       "    </tr>\n",
       "    <tr>\n",
       "      <th>3</th>\n",
       "      <td>4</td>\n",
       "      <td>1</td>\n",
       "      <td>male</td>\n",
       "      <td>0.19</td>\n",
       "      <td>0.15</td>\n",
       "      <td>1</td>\n",
       "      <td>0</td>\n",
       "      <td>0</td>\n",
       "      <td>no</td>\n",
       "      <td>no</td>\n",
       "      <td>no</td>\n",
       "      <td>no</td>\n",
       "      <td>no</td>\n",
       "    </tr>\n",
       "    <tr>\n",
       "      <th>4</th>\n",
       "      <td>5</td>\n",
       "      <td>1</td>\n",
       "      <td>male</td>\n",
       "      <td>0.19</td>\n",
       "      <td>0.45</td>\n",
       "      <td>2</td>\n",
       "      <td>5</td>\n",
       "      <td>1</td>\n",
       "      <td>no</td>\n",
       "      <td>no</td>\n",
       "      <td>no</td>\n",
       "      <td>yes</td>\n",
       "      <td>no</td>\n",
       "    </tr>\n",
       "  </tbody>\n",
       "</table>\n",
       "</div>"
      ],
      "text/plain": [
       "   Unnamed: 0  visits  gender   age  income  illness  reduced  health private  \\\n",
       "0           1       1  female  0.19    0.55        1        4       1     yes   \n",
       "1           2       1  female  0.19    0.45        1        2       1     yes   \n",
       "2           3       1    male  0.19    0.90        3        0       0      no   \n",
       "3           4       1    male  0.19    0.15        1        0       0      no   \n",
       "4           5       1    male  0.19    0.45        2        5       1      no   \n",
       "\n",
       "  freepoor freerepat nchronic lchronic  \n",
       "0       no        no       no       no  \n",
       "1       no        no       no       no  \n",
       "2       no        no       no       no  \n",
       "3       no        no       no       no  \n",
       "4       no        no      yes       no  "
      ]
     },
     "execution_count": 3,
     "metadata": {},
     "output_type": "execute_result"
    }
   ],
   "source": [
    "data.head()"
   ]
  },
  {
   "cell_type": "markdown",
   "id": "b5996354",
   "metadata": {},
   "source": [
    "# LAST FIVE ROWS"
   ]
  },
  {
   "cell_type": "code",
   "execution_count": 5,
   "id": "2d5ee15d",
   "metadata": {},
   "outputs": [
    {
     "data": {
      "text/html": [
       "<div>\n",
       "<style scoped>\n",
       "    .dataframe tbody tr th:only-of-type {\n",
       "        vertical-align: middle;\n",
       "    }\n",
       "\n",
       "    .dataframe tbody tr th {\n",
       "        vertical-align: top;\n",
       "    }\n",
       "\n",
       "    .dataframe thead th {\n",
       "        text-align: right;\n",
       "    }\n",
       "</style>\n",
       "<table border=\"1\" class=\"dataframe\">\n",
       "  <thead>\n",
       "    <tr style=\"text-align: right;\">\n",
       "      <th></th>\n",
       "      <th>Unnamed: 0</th>\n",
       "      <th>visits</th>\n",
       "      <th>gender</th>\n",
       "      <th>age</th>\n",
       "      <th>income</th>\n",
       "      <th>illness</th>\n",
       "      <th>reduced</th>\n",
       "      <th>health</th>\n",
       "      <th>private</th>\n",
       "      <th>freepoor</th>\n",
       "      <th>freerepat</th>\n",
       "      <th>nchronic</th>\n",
       "      <th>lchronic</th>\n",
       "    </tr>\n",
       "  </thead>\n",
       "  <tbody>\n",
       "    <tr>\n",
       "      <th>5185</th>\n",
       "      <td>5186</td>\n",
       "      <td>0</td>\n",
       "      <td>female</td>\n",
       "      <td>0.22</td>\n",
       "      <td>0.55</td>\n",
       "      <td>0</td>\n",
       "      <td>0</td>\n",
       "      <td>0</td>\n",
       "      <td>no</td>\n",
       "      <td>no</td>\n",
       "      <td>no</td>\n",
       "      <td>no</td>\n",
       "      <td>no</td>\n",
       "    </tr>\n",
       "    <tr>\n",
       "      <th>5186</th>\n",
       "      <td>5187</td>\n",
       "      <td>0</td>\n",
       "      <td>male</td>\n",
       "      <td>0.27</td>\n",
       "      <td>1.30</td>\n",
       "      <td>0</td>\n",
       "      <td>0</td>\n",
       "      <td>1</td>\n",
       "      <td>no</td>\n",
       "      <td>no</td>\n",
       "      <td>no</td>\n",
       "      <td>no</td>\n",
       "      <td>no</td>\n",
       "    </tr>\n",
       "    <tr>\n",
       "      <th>5187</th>\n",
       "      <td>5188</td>\n",
       "      <td>0</td>\n",
       "      <td>female</td>\n",
       "      <td>0.37</td>\n",
       "      <td>0.25</td>\n",
       "      <td>1</td>\n",
       "      <td>0</td>\n",
       "      <td>1</td>\n",
       "      <td>no</td>\n",
       "      <td>no</td>\n",
       "      <td>yes</td>\n",
       "      <td>no</td>\n",
       "      <td>no</td>\n",
       "    </tr>\n",
       "    <tr>\n",
       "      <th>5188</th>\n",
       "      <td>5189</td>\n",
       "      <td>0</td>\n",
       "      <td>female</td>\n",
       "      <td>0.52</td>\n",
       "      <td>0.65</td>\n",
       "      <td>0</td>\n",
       "      <td>0</td>\n",
       "      <td>0</td>\n",
       "      <td>no</td>\n",
       "      <td>no</td>\n",
       "      <td>no</td>\n",
       "      <td>no</td>\n",
       "      <td>no</td>\n",
       "    </tr>\n",
       "    <tr>\n",
       "      <th>5189</th>\n",
       "      <td>5190</td>\n",
       "      <td>0</td>\n",
       "      <td>male</td>\n",
       "      <td>0.72</td>\n",
       "      <td>0.25</td>\n",
       "      <td>0</td>\n",
       "      <td>0</td>\n",
       "      <td>0</td>\n",
       "      <td>no</td>\n",
       "      <td>no</td>\n",
       "      <td>yes</td>\n",
       "      <td>no</td>\n",
       "      <td>no</td>\n",
       "    </tr>\n",
       "  </tbody>\n",
       "</table>\n",
       "</div>"
      ],
      "text/plain": [
       "      Unnamed: 0  visits  gender   age  income  illness  reduced  health  \\\n",
       "5185        5186       0  female  0.22    0.55        0        0       0   \n",
       "5186        5187       0    male  0.27    1.30        0        0       1   \n",
       "5187        5188       0  female  0.37    0.25        1        0       1   \n",
       "5188        5189       0  female  0.52    0.65        0        0       0   \n",
       "5189        5190       0    male  0.72    0.25        0        0       0   \n",
       "\n",
       "     private freepoor freerepat nchronic lchronic  \n",
       "5185      no       no        no       no       no  \n",
       "5186      no       no        no       no       no  \n",
       "5187      no       no       yes       no       no  \n",
       "5188      no       no        no       no       no  \n",
       "5189      no       no       yes       no       no  "
      ]
     },
     "execution_count": 5,
     "metadata": {},
     "output_type": "execute_result"
    }
   ],
   "source": [
    "data.tail()"
   ]
  },
  {
   "cell_type": "code",
   "execution_count": 19,
   "id": "a4daa61c",
   "metadata": {},
   "outputs": [
    {
     "data": {
      "text/plain": [
       "67470"
      ]
     },
     "execution_count": 19,
     "metadata": {},
     "output_type": "execute_result"
    }
   ],
   "source": [
    "data.size"
   ]
  },
  {
   "cell_type": "code",
   "execution_count": 21,
   "id": "1dcd0cce",
   "metadata": {},
   "outputs": [
    {
     "data": {
      "text/plain": [
       "(5190, 13)"
      ]
     },
     "execution_count": 21,
     "metadata": {},
     "output_type": "execute_result"
    }
   ],
   "source": [
    "data.shape"
   ]
  },
  {
   "cell_type": "code",
   "execution_count": 6,
   "id": "b631060d",
   "metadata": {
    "scrolled": true
   },
   "outputs": [
    {
     "name": "stdout",
     "output_type": "stream",
     "text": [
      "<class 'pandas.core.frame.DataFrame'>\n",
      "RangeIndex: 5190 entries, 0 to 5189\n",
      "Data columns (total 13 columns):\n",
      " #   Column      Non-Null Count  Dtype  \n",
      "---  ------      --------------  -----  \n",
      " 0   Unnamed: 0  5190 non-null   int64  \n",
      " 1   visits      5190 non-null   int64  \n",
      " 2   gender      5190 non-null   object \n",
      " 3   age         5190 non-null   float64\n",
      " 4   income      5190 non-null   float64\n",
      " 5   illness     5190 non-null   int64  \n",
      " 6   reduced     5190 non-null   int64  \n",
      " 7   health      5190 non-null   int64  \n",
      " 8   private     5190 non-null   object \n",
      " 9   freepoor    5190 non-null   object \n",
      " 10  freerepat   5190 non-null   object \n",
      " 11  nchronic    5190 non-null   object \n",
      " 12  lchronic    5190 non-null   object \n",
      "dtypes: float64(2), int64(5), object(6)\n",
      "memory usage: 527.2+ KB\n"
     ]
    }
   ],
   "source": [
    "data.info()"
   ]
  },
  {
   "cell_type": "code",
   "execution_count": 7,
   "id": "53d2b9b6",
   "metadata": {},
   "outputs": [
    {
     "data": {
      "text/html": [
       "<div>\n",
       "<style scoped>\n",
       "    .dataframe tbody tr th:only-of-type {\n",
       "        vertical-align: middle;\n",
       "    }\n",
       "\n",
       "    .dataframe tbody tr th {\n",
       "        vertical-align: top;\n",
       "    }\n",
       "\n",
       "    .dataframe thead th {\n",
       "        text-align: right;\n",
       "    }\n",
       "</style>\n",
       "<table border=\"1\" class=\"dataframe\">\n",
       "  <thead>\n",
       "    <tr style=\"text-align: right;\">\n",
       "      <th></th>\n",
       "      <th>Unnamed: 0</th>\n",
       "      <th>visits</th>\n",
       "      <th>age</th>\n",
       "      <th>income</th>\n",
       "      <th>illness</th>\n",
       "      <th>reduced</th>\n",
       "      <th>health</th>\n",
       "    </tr>\n",
       "  </thead>\n",
       "  <tbody>\n",
       "    <tr>\n",
       "      <th>count</th>\n",
       "      <td>5190.000000</td>\n",
       "      <td>5190.000000</td>\n",
       "      <td>5190.000000</td>\n",
       "      <td>5190.000000</td>\n",
       "      <td>5190.000000</td>\n",
       "      <td>5190.000000</td>\n",
       "      <td>5190.000000</td>\n",
       "    </tr>\n",
       "    <tr>\n",
       "      <th>mean</th>\n",
       "      <td>2595.500000</td>\n",
       "      <td>0.301734</td>\n",
       "      <td>0.406385</td>\n",
       "      <td>0.583160</td>\n",
       "      <td>1.431985</td>\n",
       "      <td>0.861850</td>\n",
       "      <td>1.217534</td>\n",
       "    </tr>\n",
       "    <tr>\n",
       "      <th>std</th>\n",
       "      <td>1498.368279</td>\n",
       "      <td>0.798134</td>\n",
       "      <td>0.204782</td>\n",
       "      <td>0.368907</td>\n",
       "      <td>1.384152</td>\n",
       "      <td>2.887628</td>\n",
       "      <td>2.124266</td>\n",
       "    </tr>\n",
       "    <tr>\n",
       "      <th>min</th>\n",
       "      <td>1.000000</td>\n",
       "      <td>0.000000</td>\n",
       "      <td>0.190000</td>\n",
       "      <td>0.000000</td>\n",
       "      <td>0.000000</td>\n",
       "      <td>0.000000</td>\n",
       "      <td>0.000000</td>\n",
       "    </tr>\n",
       "    <tr>\n",
       "      <th>25%</th>\n",
       "      <td>1298.250000</td>\n",
       "      <td>0.000000</td>\n",
       "      <td>0.220000</td>\n",
       "      <td>0.250000</td>\n",
       "      <td>0.000000</td>\n",
       "      <td>0.000000</td>\n",
       "      <td>0.000000</td>\n",
       "    </tr>\n",
       "    <tr>\n",
       "      <th>50%</th>\n",
       "      <td>2595.500000</td>\n",
       "      <td>0.000000</td>\n",
       "      <td>0.320000</td>\n",
       "      <td>0.550000</td>\n",
       "      <td>1.000000</td>\n",
       "      <td>0.000000</td>\n",
       "      <td>0.000000</td>\n",
       "    </tr>\n",
       "    <tr>\n",
       "      <th>75%</th>\n",
       "      <td>3892.750000</td>\n",
       "      <td>0.000000</td>\n",
       "      <td>0.620000</td>\n",
       "      <td>0.900000</td>\n",
       "      <td>2.000000</td>\n",
       "      <td>0.000000</td>\n",
       "      <td>2.000000</td>\n",
       "    </tr>\n",
       "    <tr>\n",
       "      <th>max</th>\n",
       "      <td>5190.000000</td>\n",
       "      <td>9.000000</td>\n",
       "      <td>0.720000</td>\n",
       "      <td>1.500000</td>\n",
       "      <td>5.000000</td>\n",
       "      <td>14.000000</td>\n",
       "      <td>12.000000</td>\n",
       "    </tr>\n",
       "  </tbody>\n",
       "</table>\n",
       "</div>"
      ],
      "text/plain": [
       "        Unnamed: 0       visits          age       income      illness  \\\n",
       "count  5190.000000  5190.000000  5190.000000  5190.000000  5190.000000   \n",
       "mean   2595.500000     0.301734     0.406385     0.583160     1.431985   \n",
       "std    1498.368279     0.798134     0.204782     0.368907     1.384152   \n",
       "min       1.000000     0.000000     0.190000     0.000000     0.000000   \n",
       "25%    1298.250000     0.000000     0.220000     0.250000     0.000000   \n",
       "50%    2595.500000     0.000000     0.320000     0.550000     1.000000   \n",
       "75%    3892.750000     0.000000     0.620000     0.900000     2.000000   \n",
       "max    5190.000000     9.000000     0.720000     1.500000     5.000000   \n",
       "\n",
       "           reduced       health  \n",
       "count  5190.000000  5190.000000  \n",
       "mean      0.861850     1.217534  \n",
       "std       2.887628     2.124266  \n",
       "min       0.000000     0.000000  \n",
       "25%       0.000000     0.000000  \n",
       "50%       0.000000     0.000000  \n",
       "75%       0.000000     2.000000  \n",
       "max      14.000000    12.000000  "
      ]
     },
     "execution_count": 7,
     "metadata": {},
     "output_type": "execute_result"
    }
   ],
   "source": [
    "data.describe()"
   ]
  },
  {
   "cell_type": "code",
   "execution_count": 25,
   "id": "86e96611",
   "metadata": {},
   "outputs": [
    {
     "data": {
      "text/plain": [
       "Unnamed: 0    0\n",
       "visits        0\n",
       "gender        0\n",
       "age           0\n",
       "income        0\n",
       "illness       0\n",
       "reduced       0\n",
       "health        0\n",
       "private       0\n",
       "freepoor      0\n",
       "freerepat     0\n",
       "nchronic      0\n",
       "lchronic      0\n",
       "dtype: int64"
      ]
     },
     "execution_count": 25,
     "metadata": {},
     "output_type": "execute_result"
    }
   ],
   "source": [
    "data.isnull().sum()"
   ]
  },
  {
   "cell_type": "markdown",
   "id": "0ce857c4",
   "metadata": {},
   "source": [
    "# find out the tota; no: of people based on their count of illeness"
   ]
  },
  {
   "cell_type": "code",
   "execution_count": 28,
   "id": "f32bacdb",
   "metadata": {},
   "outputs": [
    {
     "data": {
      "text/plain": [
       "1    1638\n",
       "0    1554\n",
       "2     946\n",
       "3     542\n",
       "4     274\n",
       "5     236\n",
       "Name: illness, dtype: int64"
      ]
     },
     "execution_count": 28,
     "metadata": {},
     "output_type": "execute_result"
    }
   ],
   "source": [
    "data[\"illness\"].value_counts()"
   ]
  },
  {
   "cell_type": "code",
   "execution_count": 29,
   "id": "196298dc",
   "metadata": {},
   "outputs": [
    {
     "data": {
      "text/plain": [
       "female    2702\n",
       "male      2488\n",
       "Name: gender, dtype: int64"
      ]
     },
     "execution_count": 29,
     "metadata": {},
     "output_type": "execute_result"
    }
   ],
   "source": [
    "data[\"gender\"].value_counts()"
   ]
  },
  {
   "cell_type": "markdown",
   "id": "bb13ebc9",
   "metadata": {},
   "source": [
    "# visualize and analyze the max, min, and medium income"
   ]
  },
  {
   "cell_type": "code",
   "execution_count": 30,
   "id": "625ce552",
   "metadata": {},
   "outputs": [
    {
     "data": {
      "image/png": "[encoded data removed]",
      "text/plain": [
       "<Figure size 432x288 with 1 Axes>"
      ]
     },
     "metadata": {
      "needs_background": "light"
     },
     "output_type": "display_data"
    }
   ],
   "source": [
    "y=list(data.income)\n",
    "plt.boxplot(y)\n",
    "plt.show()"
   ]
  },
  {
   "cell_type": "markdown",
   "id": "885194ab",
   "metadata": {},
   "source": [
    "# find out the no of days of reduced activity of male and female seperatle due to illeness "
   ]
  },
  {
   "cell_type": "code",
   "execution_count": 31,
   "id": "b4123571",
   "metadata": {},
   "outputs": [
    {
     "data": {
      "text/html": [
       "<div>\n",
       "<style scoped>\n",
       "    .dataframe tbody tr th:only-of-type {\n",
       "        vertical-align: middle;\n",
       "    }\n",
       "\n",
       "    .dataframe tbody tr th {\n",
       "        vertical-align: top;\n",
       "    }\n",
       "\n",
       "    .dataframe thead th {\n",
       "        text-align: right;\n",
       "    }\n",
       "</style>\n",
       "<table border=\"1\" class=\"dataframe\">\n",
       "  <thead>\n",
       "    <tr style=\"text-align: right;\">\n",
       "      <th></th>\n",
       "      <th></th>\n",
       "      <th>Unnamed: 0</th>\n",
       "      <th>visits</th>\n",
       "      <th>age</th>\n",
       "      <th>income</th>\n",
       "      <th>illness</th>\n",
       "      <th>health</th>\n",
       "    </tr>\n",
       "    <tr>\n",
       "      <th>gender</th>\n",
       "      <th>reduced</th>\n",
       "      <th></th>\n",
       "      <th></th>\n",
       "      <th></th>\n",
       "      <th></th>\n",
       "      <th></th>\n",
       "      <th></th>\n",
       "    </tr>\n",
       "  </thead>\n",
       "  <tbody>\n",
       "    <tr>\n",
       "      <th rowspan=\"14\" valign=\"top\">female</th>\n",
       "      <th>0</th>\n",
       "      <td>2524.038512</td>\n",
       "      <td>0.229322</td>\n",
       "      <td>0.465755</td>\n",
       "      <td>0.482735</td>\n",
       "      <td>1.462144</td>\n",
       "      <td>1.115098</td>\n",
       "    </tr>\n",
       "    <tr>\n",
       "      <th>1</th>\n",
       "      <td>1985.768421</td>\n",
       "      <td>0.400000</td>\n",
       "      <td>0.325684</td>\n",
       "      <td>0.542105</td>\n",
       "      <td>2.242105</td>\n",
       "      <td>1.610526</td>\n",
       "    </tr>\n",
       "    <tr>\n",
       "      <th>2</th>\n",
       "      <td>1622.618182</td>\n",
       "      <td>0.672727</td>\n",
       "      <td>0.391455</td>\n",
       "      <td>0.560182</td>\n",
       "      <td>2.236364</td>\n",
       "      <td>1.781818</td>\n",
       "    </tr>\n",
       "    <tr>\n",
       "      <th>3</th>\n",
       "      <td>997.311111</td>\n",
       "      <td>1.333333</td>\n",
       "      <td>0.403111</td>\n",
       "      <td>0.516000</td>\n",
       "      <td>2.733333</td>\n",
       "      <td>1.733333</td>\n",
       "    </tr>\n",
       "    <tr>\n",
       "      <th>4</th>\n",
       "      <td>1237.740741</td>\n",
       "      <td>0.851852</td>\n",
       "      <td>0.458889</td>\n",
       "      <td>0.466667</td>\n",
       "      <td>2.222222</td>\n",
       "      <td>2.074074</td>\n",
       "    </tr>\n",
       "    <tr>\n",
       "      <th>5</th>\n",
       "      <td>1169.055556</td>\n",
       "      <td>1.444444</td>\n",
       "      <td>0.401667</td>\n",
       "      <td>0.614444</td>\n",
       "      <td>2.222222</td>\n",
       "      <td>2.500000</td>\n",
       "    </tr>\n",
       "    <tr>\n",
       "      <th>6</th>\n",
       "      <td>1382.545455</td>\n",
       "      <td>1.363636</td>\n",
       "      <td>0.426364</td>\n",
       "      <td>0.622727</td>\n",
       "      <td>2.363636</td>\n",
       "      <td>1.363636</td>\n",
       "    </tr>\n",
       "    <tr>\n",
       "      <th>7</th>\n",
       "      <td>1034.846154</td>\n",
       "      <td>1.384615</td>\n",
       "      <td>0.436154</td>\n",
       "      <td>0.473462</td>\n",
       "      <td>2.653846</td>\n",
       "      <td>2.230769</td>\n",
       "    </tr>\n",
       "    <tr>\n",
       "      <th>8</th>\n",
       "      <td>1883.090909</td>\n",
       "      <td>1.090909</td>\n",
       "      <td>0.471818</td>\n",
       "      <td>0.404545</td>\n",
       "      <td>2.181818</td>\n",
       "      <td>4.000000</td>\n",
       "    </tr>\n",
       "    <tr>\n",
       "      <th>9</th>\n",
       "      <td>1349.000000</td>\n",
       "      <td>0.500000</td>\n",
       "      <td>0.570000</td>\n",
       "      <td>0.825000</td>\n",
       "      <td>3.000000</td>\n",
       "      <td>1.000000</td>\n",
       "    </tr>\n",
       "    <tr>\n",
       "      <th>10</th>\n",
       "      <td>1099.428571</td>\n",
       "      <td>2.142857</td>\n",
       "      <td>0.512857</td>\n",
       "      <td>0.421429</td>\n",
       "      <td>2.571429</td>\n",
       "      <td>2.000000</td>\n",
       "    </tr>\n",
       "    <tr>\n",
       "      <th>12</th>\n",
       "      <td>1661.000000</td>\n",
       "      <td>2.000000</td>\n",
       "      <td>0.720000</td>\n",
       "      <td>0.250000</td>\n",
       "      <td>3.500000</td>\n",
       "      <td>5.500000</td>\n",
       "    </tr>\n",
       "    <tr>\n",
       "      <th>13</th>\n",
       "      <td>906.000000</td>\n",
       "      <td>4.000000</td>\n",
       "      <td>0.720000</td>\n",
       "      <td>0.300000</td>\n",
       "      <td>4.500000</td>\n",
       "      <td>3.500000</td>\n",
       "    </tr>\n",
       "    <tr>\n",
       "      <th>14</th>\n",
       "      <td>1392.112069</td>\n",
       "      <td>1.543103</td>\n",
       "      <td>0.551724</td>\n",
       "      <td>0.427586</td>\n",
       "      <td>2.534483</td>\n",
       "      <td>4.112069</td>\n",
       "    </tr>\n",
       "    <tr>\n",
       "      <th rowspan=\"15\" valign=\"top\">male</th>\n",
       "      <th>0</th>\n",
       "      <td>3008.911019</td>\n",
       "      <td>0.136007</td>\n",
       "      <td>0.344703</td>\n",
       "      <td>0.694398</td>\n",
       "      <td>1.099585</td>\n",
       "      <td>0.924850</td>\n",
       "    </tr>\n",
       "    <tr>\n",
       "      <th>1</th>\n",
       "      <td>2485.158537</td>\n",
       "      <td>0.304878</td>\n",
       "      <td>0.286220</td>\n",
       "      <td>0.676341</td>\n",
       "      <td>1.743902</td>\n",
       "      <td>1.256098</td>\n",
       "    </tr>\n",
       "    <tr>\n",
       "      <th>2</th>\n",
       "      <td>2007.679245</td>\n",
       "      <td>0.471698</td>\n",
       "      <td>0.343585</td>\n",
       "      <td>0.653019</td>\n",
       "      <td>2.358491</td>\n",
       "      <td>1.547170</td>\n",
       "    </tr>\n",
       "    <tr>\n",
       "      <th>3</th>\n",
       "      <td>1909.068966</td>\n",
       "      <td>0.724138</td>\n",
       "      <td>0.334138</td>\n",
       "      <td>0.741379</td>\n",
       "      <td>2.137931</td>\n",
       "      <td>1.689655</td>\n",
       "    </tr>\n",
       "    <tr>\n",
       "      <th>4</th>\n",
       "      <td>1424.000000</td>\n",
       "      <td>0.722222</td>\n",
       "      <td>0.309444</td>\n",
       "      <td>0.869444</td>\n",
       "      <td>2.055556</td>\n",
       "      <td>2.000000</td>\n",
       "    </tr>\n",
       "    <tr>\n",
       "      <th>5</th>\n",
       "      <td>1437.272727</td>\n",
       "      <td>1.136364</td>\n",
       "      <td>0.331818</td>\n",
       "      <td>0.570455</td>\n",
       "      <td>2.272727</td>\n",
       "      <td>2.818182</td>\n",
       "    </tr>\n",
       "    <tr>\n",
       "      <th>6</th>\n",
       "      <td>562.000000</td>\n",
       "      <td>0.833333</td>\n",
       "      <td>0.340000</td>\n",
       "      <td>0.591667</td>\n",
       "      <td>2.500000</td>\n",
       "      <td>2.000000</td>\n",
       "    </tr>\n",
       "    <tr>\n",
       "      <th>7</th>\n",
       "      <td>1716.750000</td>\n",
       "      <td>0.750000</td>\n",
       "      <td>0.314167</td>\n",
       "      <td>0.655000</td>\n",
       "      <td>2.583333</td>\n",
       "      <td>4.333333</td>\n",
       "    </tr>\n",
       "    <tr>\n",
       "      <th>8</th>\n",
       "      <td>680.666667</td>\n",
       "      <td>1.333333</td>\n",
       "      <td>0.365000</td>\n",
       "      <td>0.833333</td>\n",
       "      <td>2.666667</td>\n",
       "      <td>2.000000</td>\n",
       "    </tr>\n",
       "    <tr>\n",
       "      <th>9</th>\n",
       "      <td>1375.400000</td>\n",
       "      <td>2.200000</td>\n",
       "      <td>0.310000</td>\n",
       "      <td>0.392000</td>\n",
       "      <td>2.400000</td>\n",
       "      <td>2.000000</td>\n",
       "    </tr>\n",
       "    <tr>\n",
       "      <th>10</th>\n",
       "      <td>1543.200000</td>\n",
       "      <td>1.800000</td>\n",
       "      <td>0.480000</td>\n",
       "      <td>0.590000</td>\n",
       "      <td>2.600000</td>\n",
       "      <td>4.600000</td>\n",
       "    </tr>\n",
       "    <tr>\n",
       "      <th>11</th>\n",
       "      <td>355.500000</td>\n",
       "      <td>5.000000</td>\n",
       "      <td>0.320000</td>\n",
       "      <td>1.000000</td>\n",
       "      <td>1.500000</td>\n",
       "      <td>0.500000</td>\n",
       "    </tr>\n",
       "    <tr>\n",
       "      <th>12</th>\n",
       "      <td>781.500000</td>\n",
       "      <td>2.000000</td>\n",
       "      <td>0.370000</td>\n",
       "      <td>0.515000</td>\n",
       "      <td>1.500000</td>\n",
       "      <td>1.000000</td>\n",
       "    </tr>\n",
       "    <tr>\n",
       "      <th>13</th>\n",
       "      <td>508.666667</td>\n",
       "      <td>4.000000</td>\n",
       "      <td>0.510000</td>\n",
       "      <td>0.350000</td>\n",
       "      <td>3.333333</td>\n",
       "      <td>2.333333</td>\n",
       "    </tr>\n",
       "    <tr>\n",
       "      <th>14</th>\n",
       "      <td>1236.069444</td>\n",
       "      <td>1.555556</td>\n",
       "      <td>0.476806</td>\n",
       "      <td>0.598611</td>\n",
       "      <td>2.375000</td>\n",
       "      <td>3.527778</td>\n",
       "    </tr>\n",
       "  </tbody>\n",
       "</table>\n",
       "</div>"
      ],
      "text/plain": [
       "                 Unnamed: 0    visits       age    income   illness    health\n",
       "gender reduced                                                               \n",
       "female 0        2524.038512  0.229322  0.465755  0.482735  1.462144  1.115098\n",
       "       1        1985.768421  0.400000  0.325684  0.542105  2.242105  1.610526\n",
       "       2        1622.618182  0.672727  0.391455  0.560182  2.236364  1.781818\n",
       "       3         997.311111  1.333333  0.403111  0.516000  2.733333  1.733333\n",
       "       4        1237.740741  0.851852  0.458889  0.466667  2.222222  2.074074\n",
       "       5        1169.055556  1.444444  0.401667  0.614444  2.222222  2.500000\n",
       "       6        1382.545455  1.363636  0.426364  0.622727  2.363636  1.363636\n",
       "       7        1034.846154  1.384615  0.436154  0.473462  2.653846  2.230769\n",
       "       8        1883.090909  1.090909  0.471818  0.404545  2.181818  4.000000\n",
       "       9        1349.000000  0.500000  0.570000  0.825000  3.000000  1.000000\n",
       "       10       1099.428571  2.142857  0.512857  0.421429  2.571429  2.000000\n",
       "       12       1661.000000  2.000000  0.720000  0.250000  3.500000  5.500000\n",
       "       13        906.000000  4.000000  0.720000  0.300000  4.500000  3.500000\n",
       "       14       1392.112069  1.543103  0.551724  0.427586  2.534483  4.112069\n",
       "male   0        3008.911019  0.136007  0.344703  0.694398  1.099585  0.924850\n",
       "       1        2485.158537  0.304878  0.286220  0.676341  1.743902  1.256098\n",
       "       2        2007.679245  0.471698  0.343585  0.653019  2.358491  1.547170\n",
       "       3        1909.068966  0.724138  0.334138  0.741379  2.137931  1.689655\n",
       "       4        1424.000000  0.722222  0.309444  0.869444  2.055556  2.000000\n",
       "       5        1437.272727  1.136364  0.331818  0.570455  2.272727  2.818182\n",
       "       6         562.000000  0.833333  0.340000  0.591667  2.500000  2.000000\n",
       "       7        1716.750000  0.750000  0.314167  0.655000  2.583333  4.333333\n",
       "       8         680.666667  1.333333  0.365000  0.833333  2.666667  2.000000\n",
       "       9        1375.400000  2.200000  0.310000  0.392000  2.400000  2.000000\n",
       "       10       1543.200000  1.800000  0.480000  0.590000  2.600000  4.600000\n",
       "       11        355.500000  5.000000  0.320000  1.000000  1.500000  0.500000\n",
       "       12        781.500000  2.000000  0.370000  0.515000  1.500000  1.000000\n",
       "       13        508.666667  4.000000  0.510000  0.350000  3.333333  2.333333\n",
       "       14       1236.069444  1.555556  0.476806  0.598611  2.375000  3.527778"
      ]
     },
     "execution_count": 31,
     "metadata": {},
     "output_type": "execute_result"
    }
   ],
   "source": [
    "data.groupby([\"gender\",\"reduced\"]).mean()"
   ]
  },
  {
   "cell_type": "markdown",
   "id": "9de5e86c",
   "metadata": {},
   "source": [
    "# visualise any missing values in dataset using heatmap"
   ]
  },
  {
   "cell_type": "code",
   "execution_count": 37,
   "id": "80e905f2",
   "metadata": {},
   "outputs": [
    {
     "data": {
      "text/plain": [
       "<AxesSubplot:>"
      ]
     },
     "execution_count": 37,
     "metadata": {},
     "output_type": "execute_result"
    },
    {
     "data": {
      "image/png": "[encoded data removed]",
      "text/plain": [
       "<Figure size 432x288 with 1 Axes>"
      ]
     },
     "metadata": {
      "needs_background": "light"
     },
     "output_type": "display_data"
    }
   ],
   "source": [
    "sns.heatmap(data.isnull(),cbar=False,cmap=\"tab20\")"
   ]
  },
  {
   "cell_type": "markdown",
   "id": "4894af72",
   "metadata": {},
   "source": [
    "# finding co-relation between diffrent variables in given dataset"
   ]
  },
  {
   "cell_type": "code",
   "execution_count": 40,
   "id": "30be7f9e",
   "metadata": {},
   "outputs": [
    {
     "data": {
      "text/plain": [
       "<AxesSubplot:>"
      ]
     },
     "execution_count": 40,
     "metadata": {},
     "output_type": "execute_result"
    },
    {
     "data": {
      "image/png": "[encoded data removed]",
      "text/plain": [
       "<Figure size 720x720 with 2 Axes>"
      ]
     },
     "metadata": {
      "needs_background": "light"
     },
     "output_type": "display_data"
    }
   ],
   "source": [
    "plt.figure(figsize=(10,10))\n",
    "sns.heatmap(data.corr(),cbar=True,cmap=\"Blues\")"
   ]
  },
  {
   "cell_type": "markdown",
   "id": "bea8e808",
   "metadata": {},
   "source": [
    "# analyze how the income of a patient affects the no of visits to the hospital"
   ]
  },
  {
   "cell_type": "code",
   "execution_count": 41,
   "id": "775c3785",
   "metadata": {},
   "outputs": [
    {
     "data": {
      "text/plain": [
       "Text(0, 0.5, 'visits')"
      ]
     },
     "execution_count": 41,
     "metadata": {},
     "output_type": "execute_result"
    },
    {
     "data": {
      "image/png": "[encoded data removed]",
      "text/plain": [
       "<Figure size 1440x1440 with 1 Axes>"
      ]
     },
     "metadata": {
      "needs_background": "light"
     },
     "output_type": "display_data"
    }
   ],
   "source": [
    "plt.figure(figsize=(20,20))\n",
    "plt.scatter(x=\"income\",y=\"visits\",data=data)\n",
    "plt.xlabel(\"income\")\n",
    "plt.ylabel(\"visits\")"
   ]
  },
  {
   "cell_type": "markdown",
   "id": "0abe4fee",
   "metadata": {},
   "source": [
    "# number of male and female affected by illness"
   ]
  },
  {
   "cell_type": "code",
   "execution_count": 44,
   "id": "bc3d6498",
   "metadata": {},
   "outputs": [
    {
     "data": {
      "text/plain": [
       "<AxesSubplot:xlabel='gender', ylabel='Count'>"
      ]
     },
     "execution_count": 44,
     "metadata": {},
     "output_type": "execute_result"
    },
    {
     "data": {
      "image/png": "[encoded data removed]",
      "text/plain": [
       "<Figure size 432x288 with 1 Axes>"
      ]
     },
     "metadata": {
      "needs_background": "light"
     },
     "output_type": "display_data"
    }
   ],
   "source": [
    "sns.histplot(data.gender,bins=2)"
   ]
  },
  {
   "cell_type": "markdown",
   "id": "fe1ca40b",
   "metadata": {},
   "source": [
    "# visualize the percentage of people getting govt health insurance due to low income and due to old age and aslo the percentage of people having private helath insurance "
   ]
  },
  {
   "cell_type": "code",
   "execution_count": 50,
   "id": "2942d4d5",
   "metadata": {},
   "outputs": [
    {
     "data": {
      "image/png": "[encoded data removed]",
      "text/plain": [
       "<Figure size 360x360 with 1 Axes>"
      ]
     },
     "metadata": {},
     "output_type": "display_data"
    },
    {
     "data": {
      "image/png": "[encoded data removed]",
      "text/plain": [
       "<Figure size 360x360 with 1 Axes>"
      ]
     },
     "metadata": {},
     "output_type": "display_data"
    },
    {
     "data": {
      "image/png": "[encoded data removed]",
      "text/plain": [
       "<Figure size 360x360 with 1 Axes>"
      ]
     },
     "metadata": {},
     "output_type": "display_data"
    }
   ],
   "source": [
    "label=[\"yes\",\"no\"]\n",
    "Y=data[data[\"freepoor\"]==\"yes\"]\n",
    "N=data[data[\"freepoor\"]==\"no\"]\n",
    "x=[Y.shape[0],N.shape[0]]\n",
    "plt.figure(figsize=(5,5))\n",
    "plt.pie(x,labels=label)\n",
    "plt.title(\"% of people getting govt insurance due to low income\")\n",
    "plt.show()\n",
    "labels=[\"yes\",\"no\"]\n",
    "Y=data[data[\"private\"]==\"yes\"]\n",
    "N=data[data[\"private\"]==\"no\"]\n",
    "x=[Y.shape[0],N.shape[0]]\n",
    "plt.figure(figsize=(5,5))\n",
    "plt.pie(x,labels=label)\n",
    "plt.title(\"% of people getting private health insurance\")\n",
    "plt.show()\n",
    "labels=[\"yes\",\"no\"]\n",
    "Y=data[data[\"freerepat\"]==\"yes\"]\n",
    "N=data[data[\"freerepat\"]==\"no\"]\n",
    "x=[Y.shape[0],N.shape[0]]\n",
    "plt.figure(figsize=(5,5))\n",
    "plt.pie(x,labels=label)\n",
    "plt.title(\"% of people getting govt insurance due to oldage, diability, veteran status\")\n",
    "plt.show()"
   ]
  },
  {
   "cell_type": "markdown",
   "id": "a21437b6",
   "metadata": {},
   "source": [
    "# plot a horizantal bar chart to analyze the reduced days of activity due to illness based on gender"
   ]
  },
  {
   "cell_type": "code",
   "execution_count": 53,
   "id": "e3df1acf",
   "metadata": {},
   "outputs": [
    {
     "data": {
      "image/png": "[encoded data removed]",
      "text/plain": [
       "<Figure size 432x288 with 1 Axes>"
      ]
     },
     "metadata": {
      "needs_background": "light"
     },
     "output_type": "display_data"
    }
   ],
   "source": [
    "db= data.groupby('gender')['reduced'].sum().to_frame().reset_index()\n",
    "plt.barh(db['gender'],db['reduced'],color=['cornflowerblue','lightseagreen'])\n",
    "plt.title('Bar Chart')\n",
    "plt.xlabel('gender')\n",
    "plt.ylabel('reduced activity')\n",
    "plt.show()"
   ]
  },
  {
   "cell_type": "code",
   "execution_count": null,
   "id": "5d12c67f",
   "metadata": {},
   "outputs": [],
   "source": []
  }
 ],
 "metadata": {
  "kernelspec": {
   "display_name": "Python 3 (ipykernel)",
   "language": "python",
   "name": "python3"
  },
  "language_info": {
   "codemirror_mode": {
    "name": "ipython",
    "version": 3
   },
   "file_extension": ".py",
   "mimetype": "text/x-python",
   "name": "python",
   "nbconvert_exporter": "python",
   "pygments_lexer": "ipython3",
   "version": "3.9.12"
  }
 },
 "nbformat": 4,
 "nbformat_minor": 5
}
